{
 "cells": [
  {
   "cell_type": "markdown",
   "metadata": {},
   "source": [
    "Create a numpy array with filling random values, and shape of array\n",
    "should be (12,5), and pass this array from a user-defined function, and\n",
    "function should be able to return average, minimum, maximum, and\n",
    "no. of evens in your last row. "
   ]
  },
  {
   "cell_type": "code",
   "execution_count": 26,
   "metadata": {},
   "outputs": [],
   "source": [
    "import numpy as np"
   ]
  },
  {
   "cell_type": "code",
   "execution_count": 27,
   "metadata": {},
   "outputs": [],
   "source": [
    "arr = np.random.randint(1,100,60)"
   ]
  },
  {
   "cell_type": "code",
   "execution_count": 28,
   "metadata": {},
   "outputs": [
    {
     "data": {
      "text/plain": [
       "array([32, 30, 29, 69, 34, 78, 11, 44, 28, 68, 81,  2, 38, 72, 88, 66, 64,\n",
       "       21, 71, 57, 38, 75, 65, 34, 38, 38, 89, 35,  7, 40, 87, 17, 70, 24,\n",
       "       85,  6, 10, 73, 36, 25, 64, 73, 56, 85,  5, 31, 19, 51,  1, 67, 97,\n",
       "       84, 38, 89, 34, 52, 22, 95, 83, 51])"
      ]
     },
     "execution_count": 28,
     "metadata": {},
     "output_type": "execute_result"
    }
   ],
   "source": [
    "arr"
   ]
  },
  {
   "cell_type": "code",
   "execution_count": 29,
   "metadata": {},
   "outputs": [],
   "source": [
    "arr = arr.reshape(12,5)"
   ]
  },
  {
   "cell_type": "code",
   "execution_count": 30,
   "metadata": {},
   "outputs": [
    {
     "data": {
      "text/plain": [
       "array([[32, 30, 29, 69, 34],\n",
       "       [78, 11, 44, 28, 68],\n",
       "       [81,  2, 38, 72, 88],\n",
       "       [66, 64, 21, 71, 57],\n",
       "       [38, 75, 65, 34, 38],\n",
       "       [38, 89, 35,  7, 40],\n",
       "       [87, 17, 70, 24, 85],\n",
       "       [ 6, 10, 73, 36, 25],\n",
       "       [64, 73, 56, 85,  5],\n",
       "       [31, 19, 51,  1, 67],\n",
       "       [97, 84, 38, 89, 34],\n",
       "       [52, 22, 95, 83, 51]])"
      ]
     },
     "execution_count": 30,
     "metadata": {},
     "output_type": "execute_result"
    }
   ],
   "source": [
    "arr"
   ]
  },
  {
   "cell_type": "code",
   "execution_count": 34,
   "metadata": {},
   "outputs": [
    {
     "name": "stdout",
     "output_type": "stream",
     "text": [
      "Last row of array : [52 22 95 83 51]\n",
      "Max in last row : 95\n",
      "Min in last row : 22\n",
      "Average of elements in last row : 60.6\n",
      "No. of evens in last row : 2\n"
     ]
    }
   ],
   "source": [
    "def array_func(arr):\n",
    "    last_row = arr[-1]\n",
    "\n",
    "    # max and min element\n",
    "\n",
    "    max = last_row[0]\n",
    "    min = last_row[0]\n",
    "    for n in last_row:\n",
    "        if n>max:\n",
    "            max=n\n",
    "        if n<min:\n",
    "            min=n\n",
    "\n",
    "    # Average\n",
    "     \n",
    "    avg = last_row.sum() / len(last_row)\n",
    "\n",
    "    # No. of evens\n",
    "    \n",
    "    even = 0\n",
    "    for i in last_row:\n",
    "        if i%2 == 0:\n",
    "            even+=1\n",
    "\n",
    "    return (max,min, avg, even)\n",
    "\n",
    "data = array_func(arr)\n",
    "print(f'Last row of array : {arr[-1]}')\n",
    "print(f'Max in last row : {data[0]}')\n",
    "print(f'Min in last row : {data[1]}')\n",
    "print(f'Average of elements in last row : {data[2]}')\n",
    "print(f'No. of evens in last row : {data[3]}')\n",
    "    "
   ]
  },
  {
   "cell_type": "markdown",
   "metadata": {},
   "source": [
    "Let’s consider we have an array, e.g.\n",
    "[[1 2 3 ],\n",
    "[4 5 6 ],\n",
    "[7 8 9 ]]\n",
    "And apply slicing techniques to get reversed order elements of all the rows,\n",
    "like this -> [[3 2 1],\n",
    " [6 5 4],\n",
    " [9 8 7]]"
   ]
  },
  {
   "cell_type": "code",
   "execution_count": 32,
   "metadata": {},
   "outputs": [
    {
     "data": {
      "text/plain": [
       "array([[1, 2, 3],\n",
       "       [4, 5, 6],\n",
       "       [7, 8, 9]])"
      ]
     },
     "execution_count": 32,
     "metadata": {},
     "output_type": "execute_result"
    }
   ],
   "source": [
    "\n",
    "arr1 = np.array([[1,2,3],[4,5,6],[7,8,9]])\n",
    "arr1"
   ]
  },
  {
   "cell_type": "code",
   "execution_count": 33,
   "metadata": {},
   "outputs": [
    {
     "data": {
      "text/plain": [
       "array([[3, 2, 1],\n",
       "       [6, 5, 4],\n",
       "       [9, 8, 7]])"
      ]
     },
     "execution_count": 33,
     "metadata": {},
     "output_type": "execute_result"
    }
   ],
   "source": [
    "arr1[:,::-1]"
   ]
  },
  {
   "cell_type": "code",
   "execution_count": null,
   "metadata": {},
   "outputs": [],
   "source": []
  }
 ],
 "metadata": {
  "kernelspec": {
   "display_name": "Python 3",
   "language": "python",
   "name": "python3"
  },
  "language_info": {
   "codemirror_mode": {
    "name": "ipython",
    "version": 3
   },
   "file_extension": ".py",
   "mimetype": "text/x-python",
   "name": "python",
   "nbconvert_exporter": "python",
   "pygments_lexer": "ipython3",
   "version": "3.12.1"
  }
 },
 "nbformat": 4,
 "nbformat_minor": 2
}
