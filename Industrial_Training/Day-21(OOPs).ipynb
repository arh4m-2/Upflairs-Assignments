{
 "cells": [
  {
   "cell_type": "markdown",
   "metadata": {},
   "source": [
    "# INHERITENCE"
   ]
  },
  {
   "cell_type": "code",
   "execution_count": 15,
   "metadata": {},
   "outputs": [],
   "source": [
    "class Father:\n",
    "    def __init__(self, name, age):\n",
    "        self.father_name = name\n",
    "        self.father_age = age\n",
    "\n",
    "\n",
    "    def display(self):\n",
    "        print(f\"My father's name is : {self.father_name}\")\n",
    "        print(f\"My father's age is : {self.father_age} \")\n",
    "        "
   ]
  },
  {
   "cell_type": "code",
   "execution_count": 16,
   "metadata": {},
   "outputs": [],
   "source": [
    "class Son(Father):\n",
    "    def full_intro(self):\n",
    "        print('My name is : Arham')\n",
    "        print('My age is : 20')\n",
    "        \n",
    "        "
   ]
  },
  {
   "cell_type": "code",
   "execution_count": 19,
   "metadata": {},
   "outputs": [
    {
     "name": "stdout",
     "output_type": "stream",
     "text": [
      "My name is : Arham\n",
      "My age is : 20\n",
      "My father's name is : Asit Jain\n",
      "My father's age is : 52 \n"
     ]
    }
   ],
   "source": [
    "s1 = Son('Asit Jain', 52)\n",
    "s1.full_intro()\n",
    "s1.display()"
   ]
  },
  {
   "cell_type": "code",
   "execution_count": null,
   "metadata": {},
   "outputs": [],
   "source": []
  }
 ],
 "metadata": {
  "kernelspec": {
   "display_name": "Python 3",
   "language": "python",
   "name": "python3"
  },
  "language_info": {
   "codemirror_mode": {
    "name": "ipython",
    "version": 3
   },
   "file_extension": ".py",
   "mimetype": "text/x-python",
   "name": "python",
   "nbconvert_exporter": "python",
   "pygments_lexer": "ipython3",
   "version": "3.12.1"
  }
 },
 "nbformat": 4,
 "nbformat_minor": 2
}
