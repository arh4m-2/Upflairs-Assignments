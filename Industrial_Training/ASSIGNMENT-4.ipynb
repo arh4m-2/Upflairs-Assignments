{
 "cells": [
  {
   "cell_type": "markdown",
   "metadata": {},
   "source": [
    "##\n",
    "Write a Python program to calculate the factorial of a non-negative integer entered by the user."
   ]
  },
  {
   "cell_type": "code",
   "execution_count": 2,
   "metadata": {},
   "outputs": [
    {
     "data": {
      "text/plain": [
       "5040"
      ]
     },
     "execution_count": 2,
     "metadata": {},
     "output_type": "execute_result"
    }
   ],
   "source": [
    "def factorial(num):\n",
    "    if num>=0:\n",
    "        if num==0 or num==1:\n",
    "            return 1\n",
    "        else:\n",
    "            return num * factorial(num-1)\n",
    "    else:\n",
    "        raise ValueError('Enter non negative number')\n",
    "    \n",
    "factorial(7)"
   ]
  },
  {
   "cell_type": "markdown",
   "metadata": {},
   "source": [
    "##\n",
    "Write a Python program to read a text file line by line and display the number of words in\n",
    "each line. Create a dome text file by it yourself for this assignment "
   ]
  },
  {
   "cell_type": "code",
   "execution_count": 7,
   "metadata": {},
   "outputs": [
    {
     "name": "stdout",
     "output_type": "stream",
     "text": [
      " Hello this is line.\n",
      " -> word count : 4 \n",
      " \n",
      " This is the second line of the file.\n",
      " -> word count : 8 \n",
      " \n",
      " This is the biggest line , the third line\n",
      " -> word count : 9 \n",
      " \n",
      " Hello world\n",
      " -> word count : 2 \n",
      " \n",
      " \n",
      " -> word count : 0 \n",
      " \n"
     ]
    }
   ],
   "source": [
    "import os\n",
    "file = open( \"demo.text\", \"w\" )\n",
    "file.write( \"Hello this is line.\\n\" )\n",
    "file.write( \"This is the second line of the file.\\n\" )\n",
    "file.write( \"This is the biggest line , the third line\\n\" )\n",
    "file.write( \"Hello world\\n\" )\n",
    "file.write( \"\\n\" )\n",
    "file1 = open(\"demo.text\" , \"r\")\n",
    "for line in file1 :\n",
    "    words = line.split()\n",
    "    word_count = len(words)\n",
    "    print(f\" {line} -> word count : {word_count} \\n \" )\n",
    "    \n",
    "file1.close()"
   ]
  },
  {
   "cell_type": "markdown",
   "metadata": {},
   "source": [
    "##\n",
    "Write a Python function to find the maximum and minimum numbers in a given list of\n",
    "numbers without using in built functions"
   ]
  },
  {
   "cell_type": "code",
   "execution_count": 1,
   "metadata": {},
   "outputs": [
    {
     "name": "stdout",
     "output_type": "stream",
     "text": [
      "Maximum no. : 36\n",
      "Minimum no. : 3\n"
     ]
    }
   ],
   "source": [
    "def max_and_min(nums):\n",
    "    max = nums[0]\n",
    "    min = nums[0]\n",
    "    for n in nums:\n",
    "        if n>max:\n",
    "            max=n\n",
    "        if n<min:\n",
    "            min=n\n",
    "\n",
    "    print(f'Maximum no. : {max}')\n",
    "    print(f'Minimum no. : {min}')\n",
    "\n",
    "lst1 = [3,5,25,12,5,36,3,18,22]\n",
    "max_and_min(lst1)"
   ]
  },
  {
   "cell_type": "markdown",
   "metadata": {},
   "source": [
    "##\n",
    "Write a Python program to find the longest word in a given list of words. If there are\n",
    "multiple words with the same length, return the first one encountered word."
   ]
  },
  {
   "cell_type": "code",
   "execution_count": 3,
   "metadata": {},
   "outputs": [
    {
     "name": "stdout",
     "output_type": "stream",
     "text": [
      "Longest word is : Assignment\n"
     ]
    }
   ],
   "source": [
    "words = ['Book', 'Assignment', 'Automation', 'Civil', 'Artificial', 'Cup', 'Random']\n",
    "max_len = len(words[0])\n",
    "for word in words:\n",
    "    if len(word) > max_len:\n",
    "        max_len = len(word)\n",
    "        long_word = word\n",
    "    \n",
    "print(f'Longest word is : {long_word}')\n"
   ]
  }
 ],
 "metadata": {
  "kernelspec": {
   "display_name": "Python 3",
   "language": "python",
   "name": "python3"
  },
  "language_info": {
   "codemirror_mode": {
    "name": "ipython",
    "version": 3
   },
   "file_extension": ".py",
   "mimetype": "text/x-python",
   "name": "python",
   "nbconvert_exporter": "python",
   "pygments_lexer": "ipython3",
   "version": "3.12.1"
  }
 },
 "nbformat": 4,
 "nbformat_minor": 2
}
