{
 "cells": [
  {
   "cell_type": "markdown",
   "metadata": {},
   "source": [
    "##\n",
    "OBEJCT ORIENTED PROGRAMMING (OOPs)"
   ]
  },
  {
   "cell_type": "code",
   "execution_count": 1,
   "metadata": {},
   "outputs": [
    {
     "name": "stdout",
     "output_type": "stream",
     "text": [
      "Arham\n",
      "20\n",
      "['MP', 'DMS', 'TOC', 'TC', 'DCN', 'DBMS']\n"
     ]
    }
   ],
   "source": [
    "class Student:\n",
    "    def __init__(self):\n",
    "        self.stud_name = 'Arham'\n",
    "        self.stud_age = 20\n",
    "        self.subjects = ['MP', 'DMS', 'TOC', 'TC', 'DCN', 'DBMS']\n",
    "\n",
    "# creating object\n",
    "\n",
    "stud_obj = Student()\n",
    "print(stud_obj.stud_name)\n",
    "print(stud_obj.stud_age)\n",
    "print(stud_obj.subjects)\n",
    "\n"
   ]
  },
  {
   "cell_type": "code",
   "execution_count": 4,
   "metadata": {},
   "outputs": [
    {
     "name": "stdout",
     "output_type": "stream",
     "text": [
      "22\n",
      "20\n"
     ]
    }
   ],
   "source": [
    "stud_obj2 = Student()\n",
    "stud_obj2.stud_age = 22\n",
    "print(stud_obj2.stud_age)\n",
    "print(stud_obj.stud_age)"
   ]
  },
  {
   "cell_type": "code",
   "execution_count": 10,
   "metadata": {},
   "outputs": [
    {
     "name": "stdout",
     "output_type": "stream",
     "text": [
      "Constructor executed !\n",
      "Constructor executed !\n"
     ]
    }
   ],
   "source": [
    "class Student2:\n",
    "    def __init__(self, name, age, subjects):\n",
    "        self.stud_name = name\n",
    "        self.stud_age = age\n",
    "        self.subjects = subjects\n",
    "        print('Constructor executed !')\n",
    "\n",
    "    def display(self):\n",
    "        print(f'Name : {self.stud_name} ')\n",
    "        print(f'Age : {self.stud_age} ')\n",
    "        print(f'Subjects : {self.subjects}')\n",
    "\n",
    "sub = ['Phy', 'Chem', 'Maths', 'PE', 'Eng']\n",
    "\n",
    "stud_object1 = Student2(name='Arham Jain', age=21, subjects=sub)\n",
    "stud_object2 = Student2(name='Rohit Sharma', age=37, subjects=sub)"
   ]
  },
  {
   "cell_type": "code",
   "execution_count": 9,
   "metadata": {},
   "outputs": [
    {
     "name": "stdout",
     "output_type": "stream",
     "text": [
      "Arham Jain\n",
      "21\n",
      "['Phy', 'Chem', 'Maths', 'PE', 'Eng']\n"
     ]
    }
   ],
   "source": [
    "print(stud_object1.stud_name)\n",
    "print(stud_object1.stud_age)\n",
    "print(stud_object1.subjects)\n"
   ]
  },
  {
   "cell_type": "code",
   "execution_count": 8,
   "metadata": {},
   "outputs": [
    {
     "name": "stdout",
     "output_type": "stream",
     "text": [
      "Rohit Sharma\n",
      "37\n",
      "['Phy', 'Chem', 'Maths', 'PE', 'Eng']\n"
     ]
    }
   ],
   "source": [
    "print(stud_object2.stud_name)\n",
    "print(stud_object2.stud_age)\n",
    "print(stud_object2.subjects)"
   ]
  },
  {
   "cell_type": "code",
   "execution_count": 11,
   "metadata": {},
   "outputs": [
    {
     "name": "stdout",
     "output_type": "stream",
     "text": [
      "Name : Arham Jain \n",
      "Age : 21 \n",
      "Subjects : ['Phy', 'Chem', 'Maths', 'PE', 'Eng']\n"
     ]
    }
   ],
   "source": [
    "stud_object1.display()"
   ]
  },
  {
   "cell_type": "code",
   "execution_count": 12,
   "metadata": {},
   "outputs": [
    {
     "name": "stdout",
     "output_type": "stream",
     "text": [
      "Name : Rohit Sharma \n",
      "Age : 37 \n",
      "Subjects : ['Phy', 'Chem', 'Maths', 'PE', 'Eng']\n"
     ]
    }
   ],
   "source": [
    "stud_object2.display()"
   ]
  },
  {
   "cell_type": "code",
   "execution_count": null,
   "metadata": {},
   "outputs": [],
   "source": []
  }
 ],
 "metadata": {
  "kernelspec": {
   "display_name": "Python 3",
   "language": "python",
   "name": "python3"
  },
  "language_info": {
   "codemirror_mode": {
    "name": "ipython",
    "version": 3
   },
   "file_extension": ".py",
   "mimetype": "text/x-python",
   "name": "python",
   "nbconvert_exporter": "python",
   "pygments_lexer": "ipython3",
   "version": "3.12.1"
  }
 },
 "nbformat": 4,
 "nbformat_minor": 2
}
