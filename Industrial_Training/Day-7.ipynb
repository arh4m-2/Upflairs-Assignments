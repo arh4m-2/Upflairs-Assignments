{
 "cells": [
  {
   "cell_type": "code",
   "execution_count": 1,
   "metadata": {},
   "outputs": [
    {
     "name": "stdout",
     "output_type": "stream",
     "text": [
      "Hello world\n"
     ]
    }
   ],
   "source": [
    "print('Hello world')"
   ]
  },
  {
   "cell_type": "code",
   "execution_count": 2,
   "metadata": {},
   "outputs": [],
   "source": [
    "import os"
   ]
  },
  {
   "cell_type": "code",
   "execution_count": null,
   "metadata": {},
   "outputs": [],
   "source": [
    "path = r'C:\\Users\\Arham\\OneDrive\\Desktop\\Industrial Training\\JECRC'\n"
   ]
  },
  {
   "cell_type": "code",
   "execution_count": 5,
   "metadata": {},
   "outputs": [
    {
     "name": "stdout",
     "output_type": "stream",
     "text": [
      "C:\\Users\\Arham\\OneDrive\\Desktop\\Industrial Training\\JECRC\n"
     ]
    }
   ],
   "source": [
    "os.chdir(path)\n",
    "print(os.getcwd())"
   ]
  },
  {
   "cell_type": "code",
   "execution_count": 6,
   "metadata": {},
   "outputs": [
    {
     "data": {
      "text/plain": [
       "['test.txt']"
      ]
     },
     "execution_count": 6,
     "metadata": {},
     "output_type": "execute_result"
    }
   ],
   "source": [
    "os.listdir()"
   ]
  },
  {
   "cell_type": "code",
   "execution_count": 17,
   "metadata": {},
   "outputs": [],
   "source": [
    "file = open('test.txt', 'a')\n",
    "data = '\\nMessage 4'\n",
    "file.write(data)\n",
    "file.close()"
   ]
  },
  {
   "cell_type": "code",
   "execution_count": 22,
   "metadata": {},
   "outputs": [],
   "source": [
    "### QUIZ \n",
    "def create_file(path, text):\n",
    "    os.chdir(path)\n",
    "    file = open('file1.txt', 'w')\n",
    "    file.write(text)\n",
    "    file.close()\n",
    "\n",
    "data = 'THIS IS CREATED FROM A FUNCTION'\n",
    "create_file(path, data)"
   ]
  },
  {
   "cell_type": "code",
   "execution_count": 24,
   "metadata": {},
   "outputs": [],
   "source": [
    "# path2 = r'C:\\Users\\Arham\\OneDrive\\Desktop\\Industrial Training\\JECRC2'\n",
    "# for i in range(1,21):\n",
    "#     os.mkdir(str(i))"
   ]
  },
  {
   "cell_type": "code",
   "execution_count": 28,
   "metadata": {},
   "outputs": [
    {
     "name": "stdout",
     "output_type": "stream",
     "text": [
      "File is present\n"
     ]
    }
   ],
   "source": [
    "if os.path.exists('test.txt'):\n",
    "    print('File is present')\n",
    "else:\n",
    "    print('File is not present')"
   ]
  },
  {
   "cell_type": "code",
   "execution_count": 32,
   "metadata": {},
   "outputs": [
    {
     "name": "stdout",
     "output_type": "stream",
     "text": [
      "File is present\n"
     ]
    }
   ],
   "source": [
    "if os.path.exists('hello.txt'):\n",
    "    print('File is present')\n",
    "else:\n",
    "    open('hello.txt', 'x')\n",
    "    print('File is created')"
   ]
  },
  {
   "cell_type": "code",
   "execution_count": 33,
   "metadata": {},
   "outputs": [],
   "source": [
    "os.chdir(r'C:\\Users\\Arham\\OneDrive\\Pictures\\Screenshots')"
   ]
  },
  {
   "cell_type": "code",
   "execution_count": 34,
   "metadata": {},
   "outputs": [],
   "source": [
    "name_ls = os.listdir()"
   ]
  },
  {
   "cell_type": "code",
   "execution_count": 35,
   "metadata": {},
   "outputs": [
    {
     "name": "stdout",
     "output_type": "stream",
     "text": [
      "['desktop.ini', 'Screenshot (1).png', 'Screenshot (10).png', 'Screenshot (11).png', 'Screenshot (12).png', 'Screenshot (13).png', 'Screenshot (14).png', 'Screenshot (15).png', 'Screenshot (16).png', 'Screenshot (17).png', 'Screenshot (18).png', 'Screenshot (19).png', 'Screenshot (2).png', 'Screenshot (20).png', 'Screenshot (22).png', 'Screenshot (23).png', 'Screenshot (24).png', 'Screenshot (25).png', 'Screenshot (26).png', 'Screenshot (27).png', 'Screenshot (28).png', 'Screenshot (29).png', 'Screenshot (3).png', 'Screenshot (30).png', 'Screenshot (31).png', 'Screenshot (32).png', 'Screenshot (33).png', 'Screenshot (34).png', 'Screenshot (35).png', 'Screenshot (36).png', 'Screenshot (37).png', 'Screenshot (38).png', 'Screenshot (39).png', 'Screenshot (4).png', 'Screenshot (40).png', 'Screenshot (41).png', 'Screenshot (42).png', 'Screenshot (43).png', 'Screenshot (44).png', 'Screenshot (45).png', 'Screenshot (46).png', 'Screenshot (47).png', 'Screenshot (48).png', 'Screenshot (49).png', 'Screenshot (5).png', 'Screenshot (50).png', 'Screenshot (51).png', 'Screenshot (52).png', 'Screenshot (53).png', 'Screenshot (54).png', 'Screenshot (55).png', 'Screenshot (56).png', 'Screenshot (57).png', 'Screenshot (58).png', 'Screenshot (59).png', 'Screenshot (6).png', 'Screenshot (60).png', 'Screenshot (61).png', 'Screenshot (62).png', 'Screenshot (63).png', 'Screenshot (64).png', 'Screenshot (65).png', 'Screenshot (66).png', 'Screenshot (67).png', 'Screenshot (69).png', 'Screenshot (7).png', 'Screenshot (70).png', 'Screenshot (71).png', 'Screenshot (72).png', 'Screenshot (73).png', 'Screenshot (74).png', 'Screenshot (75).png', 'Screenshot (76).png', 'Screenshot (77).png', 'Screenshot (78).png', 'Screenshot (79).png', 'Screenshot (8).png', 'Screenshot (80).png', 'Screenshot (81).png', 'Screenshot (82).png', 'Screenshot (9).png']\n"
     ]
    }
   ],
   "source": [
    "print(name_ls)"
   ]
  },
  {
   "cell_type": "code",
   "execution_count": 37,
   "metadata": {},
   "outputs": [
    {
     "data": {
      "text/plain": [
       "'C:\\\\Users\\\\Arham\\\\OneDrive\\\\Pictures\\\\Screenshots\\\\Screenshot (1).png'"
      ]
     },
     "execution_count": 37,
     "metadata": {},
     "output_type": "execute_result"
    }
   ],
   "source": [
    "for name in name_ls:\n",
    "    os.path.join(r'C:\\Users\\Arham\\OneDrive\\Pictures\\Screenshots', name_ls[1])"
   ]
  },
  {
   "cell_type": "code",
   "execution_count": null,
   "metadata": {},
   "outputs": [],
   "source": []
  }
 ],
 "metadata": {
  "kernelspec": {
   "display_name": "Python 3",
   "language": "python",
   "name": "python3"
  },
  "language_info": {
   "codemirror_mode": {
    "name": "ipython",
    "version": 3
   },
   "file_extension": ".py",
   "mimetype": "text/x-python",
   "name": "python",
   "nbconvert_exporter": "python",
   "pygments_lexer": "ipython3",
   "version": "3.12.1"
  }
 },
 "nbformat": 4,
 "nbformat_minor": 2
}
