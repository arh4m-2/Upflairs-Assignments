{
 "cells": [
  {
   "cell_type": "markdown",
   "metadata": {},
   "source": [
    "Create a numpy array with filling random values, and shape of array\n",
    "should be (12,5), after that manipulate the value of last row.\n",
    "For e.g. let’s consider this is your last row [41,52,63,96,85], you will\n",
    "update this line like this [1,2,3,4,5]"
   ]
  },
  {
   "cell_type": "code",
   "execution_count": 7,
   "metadata": {},
   "outputs": [],
   "source": [
    "import numpy as np\n",
    "arr1 = np.random.randint(1,51,60).reshape(12,5)"
   ]
  },
  {
   "cell_type": "code",
   "execution_count": 8,
   "metadata": {},
   "outputs": [
    {
     "data": {
      "text/plain": [
       "array([[47, 32, 28, 36, 25],\n",
       "       [13, 46, 44, 40, 16],\n",
       "       [ 3, 46, 24, 49,  3],\n",
       "       [19, 41,  5, 16, 18],\n",
       "       [23,  1, 13, 15, 21],\n",
       "       [42, 15, 41, 40, 30],\n",
       "       [22, 40, 34,  1,  6],\n",
       "       [33, 40, 47, 14, 45],\n",
       "       [ 4, 18, 13, 17, 45],\n",
       "       [47, 12, 25, 31, 20],\n",
       "       [29, 45, 17, 44, 45],\n",
       "       [30, 12, 26, 43, 14]])"
      ]
     },
     "execution_count": 8,
     "metadata": {},
     "output_type": "execute_result"
    }
   ],
   "source": [
    "\n",
    "arr1"
   ]
  },
  {
   "cell_type": "code",
   "execution_count": 9,
   "metadata": {},
   "outputs": [
    {
     "data": {
      "text/plain": [
       "2"
      ]
     },
     "execution_count": 9,
     "metadata": {},
     "output_type": "execute_result"
    }
   ],
   "source": [
    "arr1.ndim"
   ]
  },
  {
   "cell_type": "code",
   "execution_count": 10,
   "metadata": {},
   "outputs": [
    {
     "data": {
      "text/plain": [
       "array([30, 12, 26, 43, 14])"
      ]
     },
     "execution_count": 10,
     "metadata": {},
     "output_type": "execute_result"
    }
   ],
   "source": [
    "arr1[11]  # last row"
   ]
  },
  {
   "cell_type": "code",
   "execution_count": 11,
   "metadata": {},
   "outputs": [],
   "source": [
    "arr1[11] = [1,2,3,4,5]  # changing last row"
   ]
  },
  {
   "cell_type": "code",
   "execution_count": 12,
   "metadata": {},
   "outputs": [
    {
     "data": {
      "text/plain": [
       "array([[47, 32, 28, 36, 25],\n",
       "       [13, 46, 44, 40, 16],\n",
       "       [ 3, 46, 24, 49,  3],\n",
       "       [19, 41,  5, 16, 18],\n",
       "       [23,  1, 13, 15, 21],\n",
       "       [42, 15, 41, 40, 30],\n",
       "       [22, 40, 34,  1,  6],\n",
       "       [33, 40, 47, 14, 45],\n",
       "       [ 4, 18, 13, 17, 45],\n",
       "       [47, 12, 25, 31, 20],\n",
       "       [29, 45, 17, 44, 45],\n",
       "       [ 1,  2,  3,  4,  5]])"
      ]
     },
     "execution_count": 12,
     "metadata": {},
     "output_type": "execute_result"
    }
   ],
   "source": [
    "arr1"
   ]
  },
  {
   "cell_type": "markdown",
   "metadata": {},
   "source": [
    "Write a python function to find the minimum and maximum elements\n",
    "in each and every row of numpy array, and create numpy array with\n",
    "filling random integer value, and shape of array should be (12,5),\n",
    "For e.g. I took first row from\n",
    "2D array [21,4,3,62,52,1] so 1 is minimum and 52 is maximum in this\n",
    "row. So your python function should return this output for each and\n",
    "every row."
   ]
  },
  {
   "cell_type": "code",
   "execution_count": 19,
   "metadata": {},
   "outputs": [],
   "source": [
    "def max_n_min(arr):\n",
    "    for i in range(len(arr)):\n",
    "        j=0\n",
    "        max=arr[i][j]\n",
    "        min=arr[i][j]\n",
    "        for _ in arr[i]:\n",
    "            if arr[i][j]>max:\n",
    "                max=arr[i][j]\n",
    "            if arr[i][j]<min:\n",
    "                min=arr[i][j]\n",
    "            j+=1\n",
    "        print(f'For row {i+1}, max element : {max}  and min element : {min}' )\n",
    "\n",
    "arr2 = np.random.randint(1,51,60).reshape(12,5)\n",
    "\n"
   ]
  },
  {
   "cell_type": "code",
   "execution_count": 16,
   "metadata": {},
   "outputs": [
    {
     "data": {
      "text/plain": [
       "array([[38, 45, 15, 16,  4],\n",
       "       [ 1, 32,  2, 28, 34],\n",
       "       [18, 45, 49, 41, 13],\n",
       "       [ 2, 10,  8, 27, 12],\n",
       "       [17, 34, 28, 22, 32],\n",
       "       [49, 10, 30, 34, 25],\n",
       "       [50, 28,  9, 31, 21],\n",
       "       [23, 27, 23, 14,  8],\n",
       "       [11,  8, 42, 22,  2],\n",
       "       [ 7, 10, 44, 28, 44],\n",
       "       [ 5, 48, 41, 15, 10],\n",
       "       [ 6,  6, 50, 18, 39]])"
      ]
     },
     "execution_count": 16,
     "metadata": {},
     "output_type": "execute_result"
    }
   ],
   "source": [
    "arr2"
   ]
  },
  {
   "cell_type": "code",
   "execution_count": 18,
   "metadata": {},
   "outputs": [
    {
     "name": "stdout",
     "output_type": "stream",
     "text": [
      "For row 1, max element : 45  and min element : 4\n",
      "For row 2, max element : 34  and min element : 1\n",
      "For row 3, max element : 49  and min element : 13\n",
      "For row 4, max element : 27  and min element : 2\n",
      "For row 5, max element : 34  and min element : 17\n",
      "For row 6, max element : 49  and min element : 10\n",
      "For row 7, max element : 50  and min element : 9\n",
      "For row 8, max element : 27  and min element : 8\n",
      "For row 9, max element : 42  and min element : 2\n",
      "For row 10, max element : 44  and min element : 7\n",
      "For row 11, max element : 48  and min element : 5\n",
      "For row 12, max element : 50  and min element : 6\n"
     ]
    }
   ],
   "source": [
    "max_n_min(arr2)"
   ]
  },
  {
   "cell_type": "code",
   "execution_count": null,
   "metadata": {},
   "outputs": [],
   "source": []
  },
  {
   "cell_type": "code",
   "execution_count": null,
   "metadata": {},
   "outputs": [],
   "source": []
  }
 ],
 "metadata": {
  "kernelspec": {
   "display_name": "Python 3",
   "language": "python",
   "name": "python3"
  },
  "language_info": {
   "codemirror_mode": {
    "name": "ipython",
    "version": 3
   },
   "file_extension": ".py",
   "mimetype": "text/x-python",
   "name": "python",
   "nbconvert_exporter": "python",
   "pygments_lexer": "ipython3",
   "version": "3.12.1"
  }
 },
 "nbformat": 4,
 "nbformat_minor": 2
}
